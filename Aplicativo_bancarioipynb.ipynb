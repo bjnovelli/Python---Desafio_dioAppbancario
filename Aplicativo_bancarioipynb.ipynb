{
  "nbformat": 4,
  "nbformat_minor": 0,
  "metadata": {
    "colab": {
      "provenance": [],
      "authorship_tag": "ABX9TyN4dhTAGoSozgMjyDP3xLHu",
      "include_colab_link": true
    },
    "kernelspec": {
      "name": "python3",
      "display_name": "Python 3"
    },
    "language_info": {
      "name": "python"
    }
  },
  "cells": [
    {
      "cell_type": "markdown",
      "metadata": {
        "id": "view-in-github",
        "colab_type": "text"
      },
      "source": [
        "<a href=\"https://colab.research.google.com/github/bjnovelli/Python---Desafio_dioAppbancario/blob/main/Aplicativo_bancarioipynb.ipynb\" target=\"_parent\"><img src=\"https://colab.research.google.com/assets/colab-badge.svg\" alt=\"Open In Colab\"/></a>"
      ]
    },
    {
      "cell_type": "code",
      "execution_count": 1,
      "metadata": {
        "id": "O-ECZFy3Of40"
      },
      "outputs": [],
      "source": [
        "from abc import ABC, abstractclassmethod,abstractproperty"
      ]
    },
    {
      "cell_type": "code",
      "source": [
        "\n",
        "from datetime  import datetime"
      ],
      "metadata": {
        "id": "g5lgzIJDOvtQ"
      },
      "execution_count": 2,
      "outputs": []
    },
    {
      "cell_type": "code",
      "source": [
        "class Cliente:\n",
        "    def __init__(self, nome, endereco):\n",
        "        self.nome = nome\n",
        "        self.endereco = endereco\n"
      ],
      "metadata": {
        "id": "K3IhfZADVEYs"
      },
      "execution_count": 3,
      "outputs": []
    },
    {
      "cell_type": "code",
      "source": [
        "class PessoaFisica(Cliente):\n",
        "    def __init__(self, cpf, nome, endereco, data_nascimento):\n",
        "        super().__init__(nome, endereco)\n",
        "        self.data_nascimento = data_nascimento\n",
        "        self.cpf = cpf\n",
        "\n"
      ],
      "metadata": {
        "id": "vsSTVu7vVGo4"
      },
      "execution_count": 6,
      "outputs": []
    },
    {
      "cell_type": "code",
      "source": [
        "class Cliente:\n",
        "    def __init__(self, nome, endereco):\n",
        "        self.nome = nome\n",
        "        self.endereco = endereco\n",
        "\n",
        "class Conta:\n",
        "    def __init__(self, numero, cliente):\n",
        "        self.numero = numero\n",
        "        self._agencia = '0001'\n",
        "        self.cliente = cliente\n",
        "        self.saldo = 0\n",
        "        self.historico = Historico()\n",
        "\n",
        "    @classmethod\n",
        "    def nova_conta(cls, cliente, numero):\n",
        "        return cls(numero, cliente)\n",
        "\n",
        "    @property\n",
        "    def agencia(self):\n",
        "        return self._agencia\n",
        "\n",
        "    @property\n",
        "    def saldo(self):\n",
        "        return self._saldo\n",
        "\n",
        "    @saldo.setter\n",
        "    def saldo(self, valor):\n",
        "        self._saldo = valor\n",
        "\n",
        "    @property\n",
        "    def cliente(self):\n",
        "        return self._cliente\n",
        "\n",
        "    @cliente.setter\n",
        "    def cliente(self, cliente):\n",
        "        self._cliente = cliente\n",
        "\n",
        "    @property\n",
        "    def historico(self):\n",
        "        return self._historico\n",
        "\n",
        "    def sacar(self, valor):\n",
        "        if valor > self.saldo:\n",
        "            print(\"Saldo insuficiente\")\n",
        "            return False\n",
        "        elif valor > 0:\n",
        "            self.saldo -= valor\n",
        "            print(\"Saque realizado com sucesso\")\n",
        "            return True\n",
        "        else:\n",
        "            print(\"Operação falhou, valor informado inválido!\")\n",
        "            return False\n",
        "\n",
        "    def depositar(self, valor):\n",
        "        if valor > 0:\n",
        "            self.saldo += valor\n",
        "            print(\"Depósito realizado com sucesso\")\n",
        "            return True\n",
        "        else:\n",
        "            print(\"Operação falhou, valor informado inválido!\")\n",
        "            return False\n",
        "\n",
        "    def transferir(self, valor, destino):\n",
        "        if self.sacar(valor):\n",
        "            destino.depositar(valor)\n",
        "            return True\n",
        "        else:\n",
        "            return False"
      ],
      "metadata": {
        "id": "mH8HEobYVVFv"
      },
      "execution_count": null,
      "outputs": []
    },
    {
      "cell_type": "code",
      "source": [
        "Class ContaCorrente(Conta):\n",
        "   def ___init____ (numero,cliente,limite=500 limite desaque=3):\n",
        "        super().__init__(numero,cliente)\n",
        "        self.limite = limite\n",
        "        self.limite_saques= limite_saques\n",
        "\n",
        "        def sacar(self,valor):\n",
        "        numero_saques = len(\n",
        "            transacao for transacao in self.historico.transacoes if transacao['tipo'] == Saque.__name__\n",
        "            transacoes if transacao ['tipo'] == Saque.__name__]\n",
        "\n",
        "        )\n",
        "\n",
        "         execedeu_limite = valor > self.limite\n",
        "        execedeu_saques = numero_saques >= self.limite_saques\n",
        "        excedeu_saque= numero_saquesv>= valor > self.limite_saques\n",
        "\n",
        "        if excedeu_limite:\n",
        "            print(\"Operação falhou! Você excedeu o limite.\")\n",
        "        elif excedeu_saques:\n",
        "            print(\"Operação falhou! Número máximo de saques excedido.\")\n",
        "        elif excedeu\n",
        "\n",
        "        elif excedeu_saques:\n",
        "            print(\"Operação falhou! Número máximo de saques excedido.\")\n",
        "        else:\n",
        "            return super().sacar(valor)\n",
        "        return False\n",
        "\n",
        "        def __str__(self):\n",
        "            return\n",
        "\n",
        "\n",
        "\n",
        "\n"
      ],
      "metadata": {
        "id": "X6IitYySVZ_v"
      },
      "execution_count": null,
      "outputs": []
    },
    {
      "cell_type": "code",
      "source": [
        "\n",
        "\n",
        "   class Historico:\n",
        "    def __init__(self):\n",
        "        self.transacoes = []\n",
        "\n",
        "    @property\n",
        "    def extrato(self):\n",
        "        return self.transacoes\n",
        "\n",
        "    def adicionar_transacao(self, transacao):\n",
        "        self.transacoes.append(\n",
        "            {\n",
        "                \"tipo\": transacao.__class__.__name__,\n",
        "                \"valor\": transacao.valor,\n",
        "                \"data\": datetime.now().strftime(\"%d-%m-%Y %H:%M:%S\"),\n",
        "            }\n",
        "        )\n",
        "\n"
      ],
      "metadata": {
        "id": "S5CNlhETVgv0"
      },
      "execution_count": null,
      "outputs": []
    },
    {
      "cell_type": "code",
      "source": [
        " from abc import ABC, abstractmethod\n",
        "\n",
        "class Transacao(ABC):\n",
        "    def __init__(self, valor):\n",
        "        self._valor = valor\n",
        "\n",
        "    @property\n",
        "    @abstractmethod\n",
        "    def valor(self):\n",
        "        \"\"\"Este método deve ser implementado pelas subclasses.\"\"\"\n",
        "        pass\n"
      ],
      "metadata": {
        "id": "ahbzvZooVmX3"
      },
      "execution_count": null,
      "outputs": []
    },
    {
      "cell_type": "code",
      "source": [
        "\n",
        "Class Saque(Transacao):\n",
        "\n",
        "def __init__(self,_valor)\n",
        "super().__init__(_valor)\n",
        "\n",
        "@property\n",
        "def valor(self):\n",
        "    return self._valor"
      ],
      "metadata": {
        "id": "2CPSaaN1Vr2e"
      },
      "execution_count": null,
      "outputs": []
    },
    {
      "cell_type": "code",
      "source": [
        "Class Deposito(Transacao)\n",
        "   def __init__(self, valor):\n",
        "        super().__init__(valor)\n",
        "\n",
        "    @property\n",
        "    def valor(self):\n",
        "        return self._valor\n",
        "\n",
        "\n",
        "    def registrar (self,conta)\n",
        "    sucesso_regitrar = conta.historico.adicionar_transacao(self)\n",
        "    if sucesso_regitrar:\n",
        "       conta.historico.adicionar_transacao(self)\n",
        "\n",
        "\n",
        "\n",
        "\n",
        "\n",
        "\n",
        "\n",
        "\n"
      ],
      "metadata": {
        "id": "wn4Emf8cW5kq"
      },
      "execution_count": null,
      "outputs": []
    }
  ]
}